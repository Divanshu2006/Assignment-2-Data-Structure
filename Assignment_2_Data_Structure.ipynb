{
  "nbformat": 4,
  "nbformat_minor": 0,
  "metadata": {
    "colab": {
      "provenance": []
    },
    "kernelspec": {
      "name": "python3",
      "display_name": "Python 3"
    },
    "language_info": {
      "name": "python"
    }
  },
  "cells": [
    {
      "cell_type": "markdown",
      "source": [],
      "metadata": {
        "id": "6cWXlyboWqtI"
      }
    },
    {
      "cell_type": "markdown",
      "source": [
        "# Data Types and Structures Questions"
      ],
      "metadata": {
        "id": "39HjrFwcW_of"
      }
    },
    {
      "cell_type": "markdown",
      "source": [
        " Q1 What are data structures, and why are they important?\n",
        "\n",
        " * Data structures are ways to organize, store, and manage data in a computer so it can be used efficiently.\n",
        "They are important because they:\n",
        "\n",
        "  * Help store and retrieve data quickly\n",
        "\n",
        "   * Make code cleaner and more efficient\n",
        "\n",
        "  * Support different types of operations (searching, sorting, etc.)\n",
        "\n"
      ],
      "metadata": {
        "id": "AVXeKwh7XBjc"
      }
    },
    {
      "cell_type": "markdown",
      "source": [
        " Q2 Explain the difference between mutable and immutable data types with examples\n",
        "\n",
        " - Mutable: Can be changed after creation\n",
        "Example: list, dict, set\n",
        "\n",
        "- Immutable: Cannot be changed after creation\n",
        "Example: int, str, tuple"
      ],
      "metadata": {
        "id": "V5dSwCcDX5H6"
      }
    },
    {
      "cell_type": "code",
      "source": [
        "a = [1, 2, 3]\n",
        "a[0] = 10  # Now a is [10, 2, 3]\n",
        "a"
      ],
      "metadata": {
        "colab": {
          "base_uri": "https://localhost:8080/"
        },
        "id": "uSzcHjpkYNuR",
        "outputId": "14edb149-4267-4dda-b166-509dab1730bc"
      },
      "execution_count": null,
      "outputs": [
        {
          "output_type": "execute_result",
          "data": {
            "text/plain": [
              "[10, 2, 3]"
            ]
          },
          "metadata": {},
          "execution_count": 5
        }
      ]
    },
    {
      "cell_type": "markdown",
      "source": [],
      "metadata": {
        "id": "tVU8VeVbXM3b"
      }
    },
    {
      "cell_type": "code",
      "source": [
        "s = \"hello\"\n",
        "s[0] = 'H'  # ❌ Not allowed\n"
      ],
      "metadata": {
        "colab": {
          "base_uri": "https://localhost:8080/",
          "height": 158
        },
        "id": "8WyPIbaDYVYm",
        "outputId": "24324eb0-e5a4-4ed9-e0ef-f4ddee100733"
      },
      "execution_count": null,
      "outputs": [
        {
          "output_type": "error",
          "ename": "TypeError",
          "evalue": "'str' object does not support item assignment",
          "traceback": [
            "\u001b[0;31m---------------------------------------------------------------------------\u001b[0m",
            "\u001b[0;31mTypeError\u001b[0m                                 Traceback (most recent call last)",
            "\u001b[0;32m/tmp/ipython-input-4-2776352773.py\u001b[0m in \u001b[0;36m<cell line: 0>\u001b[0;34m()\u001b[0m\n\u001b[1;32m      1\u001b[0m \u001b[0ms\u001b[0m \u001b[0;34m=\u001b[0m \u001b[0;34m\"hello\"\u001b[0m\u001b[0;34m\u001b[0m\u001b[0;34m\u001b[0m\u001b[0m\n\u001b[0;32m----> 2\u001b[0;31m \u001b[0ms\u001b[0m\u001b[0;34m[\u001b[0m\u001b[0;36m0\u001b[0m\u001b[0;34m]\u001b[0m \u001b[0;34m=\u001b[0m \u001b[0;34m'H'\u001b[0m  \u001b[0;31m# ❌ Not allowed\u001b[0m\u001b[0;34m\u001b[0m\u001b[0;34m\u001b[0m\u001b[0m\n\u001b[0m",
            "\u001b[0;31mTypeError\u001b[0m: 'str' object does not support item assignment"
          ]
        }
      ]
    },
    {
      "cell_type": "markdown",
      "source": [
        " Q3 What are the main differences between lists and tuples in Python ?\n",
        "\n",
        " | Feature     | List              | Tuple          |\n",
        "| ----------- | ----------------- | -------------- |\n",
        "| Mutability  | Mutable           | Immutable      |\n",
        "| Syntax      | `[1, 2, 3]`       | `(1, 2, 3)`    |\n",
        "| Performance | Slower            | Faster         |\n",
        "| Use Case    | When data changes | For fixed data |\n"
      ],
      "metadata": {
        "id": "J94N30kWYhEc"
      }
    },
    {
      "cell_type": "markdown",
      "source": [
        " Q4 Describe how dictionaries store data.\n",
        "\n",
        " - Dictionaries store data in key-value pairs using a structure called a hash table.\n",
        "Example:"
      ],
      "metadata": {
        "id": "tbC2eLzwY4pK"
      }
    },
    {
      "cell_type": "code",
      "source": [
        "student = {\"name\": \"Alice\", \"age\": 20}\n",
        "student[\"age\"]\n"
      ],
      "metadata": {
        "colab": {
          "base_uri": "https://localhost:8080/"
        },
        "id": "rY4yllKnZKfr",
        "outputId": "b266be25-1c43-4ed3-ed38-6a9f872be49e"
      },
      "execution_count": null,
      "outputs": [
        {
          "output_type": "execute_result",
          "data": {
            "text/plain": [
              "20"
            ]
          },
          "metadata": {},
          "execution_count": 24
        }
      ]
    },
    {
      "cell_type": "markdown",
      "source": [
        " Q5 Why might you use a set instead of a list in Python?\n",
        " * Use a set when:\n",
        "\n",
        "   * You want to remove duplicates\n",
        "\n",
        "  * You need fast membership tests"
      ],
      "metadata": {
        "id": "jPWZHsLLaP80"
      }
    },
    {
      "cell_type": "code",
      "source": [
        "nums = [1, 2, 2, 3]\n",
        "unique = set(nums)  # {1, 2, 3}\n",
        "unique"
      ],
      "metadata": {
        "colab": {
          "base_uri": "https://localhost:8080/"
        },
        "id": "OmzzT0Y1ajwf",
        "outputId": "84b3d194-8ab5-488e-aaaf-51e0b06efb01"
      },
      "execution_count": null,
      "outputs": [
        {
          "output_type": "execute_result",
          "data": {
            "text/plain": [
              "{1, 2, 3}"
            ]
          },
          "metadata": {},
          "execution_count": 10
        }
      ]
    },
    {
      "cell_type": "markdown",
      "source": [],
      "metadata": {
        "id": "llr0rcxcYokJ"
      }
    },
    {
      "cell_type": "markdown",
      "source": [
        "Q6 What is a string in Python, and how is it different from a list?\n",
        "\n",
        "- A **string** is a sequence of characters (e.g., \"hello\")\n",
        "\n",
        "- A **list** is a collection of items, which can be of any type\n",
        "\n",
        "* Difference:\n",
        "\n",
        " * Strings are immutable, lists are mutable\n",
        "\n",
        " * Strings can only contain characters, lists can contain any data type"
      ],
      "metadata": {
        "id": "xR_UMesHazPb"
      }
    },
    {
      "cell_type": "markdown",
      "source": [
        "Q7 How do tuples ensure data integrity in Python?\n",
        "- Tuples are immutable, meaning once created, their content cannot be changed. This prevents accidental modification and ensures the data stays consistent."
      ],
      "metadata": {
        "id": "WXl6MUiPbP6J"
      }
    },
    {
      "cell_type": "markdown",
      "source": [
        "Q8 What is a hash table, and how does it relate to dictionaries in Python?\n",
        "- A hash table is a data structure that maps keys to values using a hash function.\n",
        "Dictionaries in Python are built using hash tables, which allow for fast data retrieval using keys."
      ],
      "metadata": {
        "id": "cjK5WRlsbcKh"
      }
    },
    {
      "cell_type": "markdown",
      "source": [
        "Q9 Can lists contain different data types in Python?\n",
        "- Yes, Python lists can store mixed data types:"
      ],
      "metadata": {
        "id": "sEGMrijYcYOA"
      }
    },
    {
      "cell_type": "code",
      "source": [
        "my_list = [1, \"apple\", 3.14, True]\n",
        "my_list"
      ],
      "metadata": {
        "colab": {
          "base_uri": "https://localhost:8080/"
        },
        "id": "gekHjg5ZchYI",
        "outputId": "7327a51d-7e5e-4b50-eba9-796c8a3d00fb"
      },
      "execution_count": null,
      "outputs": [
        {
          "output_type": "execute_result",
          "data": {
            "text/plain": [
              "[1, 'apple', 3.14, True]"
            ]
          },
          "metadata": {},
          "execution_count": 11
        }
      ]
    },
    {
      "cell_type": "markdown",
      "source": [
        "Q10 Explain why strings are immutable in Python.\n",
        "\n",
        "* **Strings are immutable to:**\n",
        "\n",
        " * Make them hashable, so they can be used as dictionary keys\n",
        "\n",
        " * Improve performance and security\n",
        "\n",
        " * Prevent bugs due to accidental changes"
      ],
      "metadata": {
        "id": "1tJiCMmbcuih"
      }
    },
    {
      "cell_type": "markdown",
      "source": [
        " Q11 What advantages do dictionaries offer over lists for certain tasks?\n",
        "\n",
        " * **Dictionaries are better when:**\n",
        "\n",
        "  * You need to look up data by name (key), not position\n",
        "\n",
        "  * You want clear, labeled data\n",
        "\n",
        "  * You need fast access to elements by key"
      ],
      "metadata": {
        "id": "15UrzKYpdIoP"
      }
    },
    {
      "cell_type": "markdown",
      "source": [
        " Q12 Describe a scenario where using a tuple would be preferable over a list.\n",
        "\n",
        " - Use a tuple when:\n",
        "\n",
        "    *  You want to protect data from changes\n",
        "\n",
        "    * You're using it as a dictionary key\n",
        "    * Example: Storing GPS coordinates:\n"
      ],
      "metadata": {
        "id": "xdhNNr6mdcYa"
      }
    },
    {
      "cell_type": "code",
      "source": [
        "location = (28.6139, 77.2090)\n",
        "location\n"
      ],
      "metadata": {
        "colab": {
          "base_uri": "https://localhost:8080/"
        },
        "id": "5VVUbc4df_vW",
        "outputId": "dfeab6f0-64fd-4631-9e64-5f43d39166d4"
      },
      "execution_count": null,
      "outputs": [
        {
          "output_type": "execute_result",
          "data": {
            "text/plain": [
              "(28.6139, 77.209)"
            ]
          },
          "metadata": {},
          "execution_count": 13
        }
      ]
    },
    {
      "cell_type": "markdown",
      "source": [
        " Q13 How do sets handle duplicate values in Python?\n",
        " - Sets automatically remove duplicates."
      ],
      "metadata": {
        "id": "p6srLUwAd3a6"
      }
    },
    {
      "cell_type": "code",
      "source": [
        "sets = {1, 2, 3, 3, 4}\n",
        "sets"
      ],
      "metadata": {
        "colab": {
          "base_uri": "https://localhost:8080/"
        },
        "id": "wwl0AriFdp7X",
        "outputId": "a79a3a58-88ca-42d3-9df5-49a59c5c8222"
      },
      "execution_count": null,
      "outputs": [
        {
          "output_type": "execute_result",
          "data": {
            "text/plain": [
              "{1, 2, 3, 4}"
            ]
          },
          "metadata": {},
          "execution_count": 12
        }
      ]
    },
    {
      "cell_type": "markdown",
      "source": [
        " Q14 How does the “in” keyword work differently for lists and dictionaries?\n",
        " - In a list, it checks if the value exists:"
      ],
      "metadata": {
        "id": "0ghE8KxNgPLc"
      }
    },
    {
      "cell_type": "code",
      "source": [
        "3 in [1, 2, 3]  # True\n"
      ],
      "metadata": {
        "colab": {
          "base_uri": "https://localhost:8080/"
        },
        "id": "5qmUsctqgeur",
        "outputId": "b6482fa3-4d74-488e-bb16-241ed7e4a164"
      },
      "execution_count": null,
      "outputs": [
        {
          "output_type": "execute_result",
          "data": {
            "text/plain": [
              "True"
            ]
          },
          "metadata": {},
          "execution_count": 14
        }
      ]
    },
    {
      "cell_type": "markdown",
      "source": [],
      "metadata": {
        "id": "cMHgz9PceelY"
      }
    },
    {
      "cell_type": "markdown",
      "source": [
        "- In a dictionary, it checks for the key:"
      ],
      "metadata": {
        "id": "KD30s5QBgoUh"
      }
    },
    {
      "cell_type": "code",
      "source": [
        "\"name\" in {\"name\": \"Alice\"}  # True\n"
      ],
      "metadata": {
        "colab": {
          "base_uri": "https://localhost:8080/"
        },
        "id": "6b3pQcw1gtDN",
        "outputId": "3ebe6bbd-0d54-4261-b281-5a2883b2a67d"
      },
      "execution_count": null,
      "outputs": [
        {
          "output_type": "execute_result",
          "data": {
            "text/plain": [
              "True"
            ]
          },
          "metadata": {},
          "execution_count": 15
        }
      ]
    },
    {
      "cell_type": "markdown",
      "source": [
        " Q15 Can you modify the elements of a tuple? Explain why or why not?\n",
        " - No, you cannot modify the elements of a tuple in Python because tuples are immutable."
      ],
      "metadata": {
        "id": "7Aj17atag9hg"
      }
    },
    {
      "cell_type": "markdown",
      "source": [
        "Q16 What is a nested dictionary, and give an example of its use case?\n",
        "- A nested dictionary is a dictionary inside another dictionary.\n",
        "Example:"
      ],
      "metadata": {
        "id": "uCm8JvH9hb9v"
      }
    },
    {
      "cell_type": "code",
      "source": [
        "students = {\n",
        "    \"101\": {\"name\": \"Alice\", \"age\": 20},\n",
        "    \"102\": {\"name\": \"Bob\", \"age\": 22}\n",
        "}\n",
        "\n",
        "students[\"101\"]"
      ],
      "metadata": {
        "colab": {
          "base_uri": "https://localhost:8080/"
        },
        "id": "IouuXiUzoXq4",
        "outputId": "850e03cf-f379-46fe-c56f-8efd1f5c28e4"
      },
      "execution_count": null,
      "outputs": [
        {
          "output_type": "execute_result",
          "data": {
            "text/plain": [
              "{'name': 'Alice', 'age': 20}"
            ]
          },
          "metadata": {},
          "execution_count": 31
        }
      ]
    },
    {
      "cell_type": "markdown",
      "source": [
        "Q17 Describe the time complexity of accessing elements in a dictionary.\n",
        "- Access time is O(1) on average, due to hash table implementation."
      ],
      "metadata": {
        "id": "N6Nl50A1o1rC"
      }
    },
    {
      "cell_type": "markdown",
      "source": [
        "Q 18 In what situations are lists preferred over dictionaries?\n",
        "* Use lists when:\n",
        "\n",
        "  * You care about order\n",
        "\n",
        " * You only need to store sequential values\n",
        "\n",
        " * You don’t need to label elements with keys"
      ],
      "metadata": {
        "id": "3yxBsof0pFVQ"
      }
    },
    {
      "cell_type": "markdown",
      "source": [
        "Q19  Why are dictionaries considered unordered, and how does that affect data retrieval?\n",
        "- In older Python versions (<3.7), dictionaries were unordered.\n",
        "From Python 3.7+, dictionaries preserve insertion order, but the concept is still that they are key-based, not index-based, so you can’t access elements by position like lists.\n",
        "\n"
      ],
      "metadata": {
        "id": "cS-5nAfFpZZV"
      }
    },
    {
      "cell_type": "markdown",
      "source": [
        "Q20  Explain the difference between a list and a dictionary in terms of data retrieval.\n",
        " - List: Retrieve by index\n",
        " - Dictionary: Retrieve by key"
      ],
      "metadata": {
        "id": "kcbaFdohpuGi"
      }
    },
    {
      "cell_type": "markdown",
      "source": [
        "#NEW SECTION\n",
        "#**PRACTICAL QUETIONS**"
      ],
      "metadata": {
        "id": "sBVegUSzqLzD"
      }
    },
    {
      "cell_type": "markdown",
      "source": [
        " Q1 Write a code to create a string with your name and print it"
      ],
      "metadata": {
        "id": "Lrb0MN6WqhMF"
      }
    },
    {
      "cell_type": "code",
      "source": [
        "My_Name = \"Divanshu Patel\"\n",
        "print(type(\"My_Name\"))\n",
        "print(My_Name)"
      ],
      "metadata": {
        "colab": {
          "base_uri": "https://localhost:8080/"
        },
        "id": "bYjNAzhyrNo-",
        "outputId": "1ff4c4c1-16a2-4e43-844f-0eb352f54737"
      },
      "execution_count": null,
      "outputs": [
        {
          "output_type": "stream",
          "name": "stdout",
          "text": [
            "<class 'str'>\n",
            "Divanshu Patel\n"
          ]
        }
      ]
    },
    {
      "cell_type": "markdown",
      "source": [
        "Q2 Write a code to find the length of the string \"Hello World\""
      ],
      "metadata": {
        "id": "N1kkBAJmtyvo"
      }
    },
    {
      "cell_type": "code",
      "source": [
        "print(\"hello world\")\n",
        "len(\"hello world\")"
      ],
      "metadata": {
        "colab": {
          "base_uri": "https://localhost:8080/"
        },
        "id": "3dKNWNyRotlr",
        "outputId": "0bd7a16b-9520-4e3d-908a-208d7cab5e0b"
      },
      "execution_count": null,
      "outputs": [
        {
          "output_type": "stream",
          "name": "stdout",
          "text": [
            "hello world\n"
          ]
        },
        {
          "output_type": "execute_result",
          "data": {
            "text/plain": [
              "11"
            ]
          },
          "metadata": {},
          "execution_count": 47
        }
      ]
    },
    {
      "cell_type": "markdown",
      "source": [
        " Q3 Write a code to slice the first 3 characters from the string \"Python Programming\""
      ],
      "metadata": {
        "id": "B3jQ61ZRuego"
      }
    },
    {
      "cell_type": "code",
      "source": [
        "print(\"Python Programming\")\n",
        "print(\"Python Programming\"[0:3])"
      ],
      "metadata": {
        "colab": {
          "base_uri": "https://localhost:8080/"
        },
        "id": "QiTOQ2couh1v",
        "outputId": "30637267-3fda-4690-f0eb-048d96d45a54"
      },
      "execution_count": null,
      "outputs": [
        {
          "output_type": "stream",
          "name": "stdout",
          "text": [
            "Python Programming\n",
            "Pyt\n"
          ]
        }
      ]
    },
    {
      "cell_type": "code",
      "source": [],
      "metadata": {
        "id": "f91xUJnyuJIx"
      },
      "execution_count": null,
      "outputs": []
    },
    {
      "cell_type": "markdown",
      "source": [
        "Q 4  Write a code to convert the string \"hello\" to uppercase"
      ],
      "metadata": {
        "id": "Nr16qkwLu1Qt"
      }
    },
    {
      "cell_type": "code",
      "source": [
        "print(\"hello\".upper())"
      ],
      "metadata": {
        "colab": {
          "base_uri": "https://localhost:8080/"
        },
        "id": "fqCCpS1vu44Y",
        "outputId": "00d7632e-4853-4abb-d8d9-13f8b54e4ba2"
      },
      "execution_count": null,
      "outputs": [
        {
          "output_type": "stream",
          "name": "stdout",
          "text": [
            "HELLO\n"
          ]
        }
      ]
    },
    {
      "cell_type": "markdown",
      "source": [
        "Q5 Write a code to replace the word \"apple\" with \"orange\" in the string \"I like apple\""
      ],
      "metadata": {
        "id": "C5RzWTBKvM_S"
      }
    },
    {
      "cell_type": "code",
      "source": [
        "print(\"I like apple\".replace(\"apple\", \"orange\"))\n"
      ],
      "metadata": {
        "colab": {
          "base_uri": "https://localhost:8080/"
        },
        "id": "CiGFdDa9vQmF",
        "outputId": "92659847-d875-4085-b302-eee6b954a388"
      },
      "execution_count": null,
      "outputs": [
        {
          "output_type": "stream",
          "name": "stdout",
          "text": [
            "I like orange\n"
          ]
        }
      ]
    },
    {
      "cell_type": "markdown",
      "source": [
        "Q6 Write a code to create a list with numbers 1 to 5 and print it"
      ],
      "metadata": {
        "id": "nDzzjJnJvmD5"
      }
    },
    {
      "cell_type": "code",
      "source": [
        "from typing import List\n",
        "List  = [1, 2, 3, 4, 5]\n",
        "print(List)"
      ],
      "metadata": {
        "colab": {
          "base_uri": "https://localhost:8080/"
        },
        "id": "ysw0NZg4vq3v",
        "outputId": "e72118e5-650f-4131-869c-a223f7cf6799"
      },
      "execution_count": null,
      "outputs": [
        {
          "output_type": "stream",
          "name": "stdout",
          "text": [
            "[1, 2, 3, 4, 5]\n"
          ]
        }
      ]
    },
    {
      "cell_type": "markdown",
      "source": [
        "Q7 Write a code to append the number 10 to the list [1, 2, 3, 4]"
      ],
      "metadata": {
        "id": "bwnamVvUv7Kl"
      }
    },
    {
      "cell_type": "code",
      "source": [
        "list1 = [1, 2, 3, 4]\n",
        "list1.append(10)\n",
        "print(list1)"
      ],
      "metadata": {
        "colab": {
          "base_uri": "https://localhost:8080/"
        },
        "id": "hi2D2Ccev-KD",
        "outputId": "40792371-d595-4f77-a78a-c37187a90dee"
      },
      "execution_count": null,
      "outputs": [
        {
          "output_type": "stream",
          "name": "stdout",
          "text": [
            "[1, 2, 3, 4, 10]\n"
          ]
        }
      ]
    },
    {
      "cell_type": "markdown",
      "source": [
        "Q8 Write a code to remove the number 3 from the list [1, 2, 3, 4, 5]"
      ],
      "metadata": {
        "id": "taATCSeAwIJw"
      }
    },
    {
      "cell_type": "code",
      "source": [
        "List2 = [1, 2, 3, 4, 5]\n",
        "List2.remove(3)\n",
        "print(List2)"
      ],
      "metadata": {
        "colab": {
          "base_uri": "https://localhost:8080/"
        },
        "id": "APHVfYXlwLEi",
        "outputId": "79836160-4ae7-4fc5-b383-20805a6b528f"
      },
      "execution_count": null,
      "outputs": [
        {
          "output_type": "stream",
          "name": "stdout",
          "text": [
            "[1, 2, 4, 5]\n"
          ]
        }
      ]
    },
    {
      "cell_type": "markdown",
      "source": [
        "Q9 Write a code to access the second element in the list ['a', 'b', 'c', 'd']"
      ],
      "metadata": {
        "id": "uqmw5XhiwYmR"
      }
    },
    {
      "cell_type": "code",
      "source": [
        "list3 = ['a', 'b', 'c', 'd']\n",
        "print(list3[1])"
      ],
      "metadata": {
        "colab": {
          "base_uri": "https://localhost:8080/"
        },
        "id": "pWa8npw7wa-X",
        "outputId": "5c408e7f-c810-4cfe-ecd3-3bcfc1909490"
      },
      "execution_count": null,
      "outputs": [
        {
          "output_type": "stream",
          "name": "stdout",
          "text": [
            "b\n"
          ]
        }
      ]
    },
    {
      "cell_type": "markdown",
      "source": [
        "Q10 Write a code to reverse the list [10, 20, 30, 40, 50]."
      ],
      "metadata": {
        "id": "S4Dy74g8wlIa"
      }
    },
    {
      "cell_type": "code",
      "source": [
        "List4 = [10, 20, 30, 40, 50]\n",
        "List4.reverse()\n",
        "print(List4)"
      ],
      "metadata": {
        "colab": {
          "base_uri": "https://localhost:8080/"
        },
        "id": "SLLrBjn9wn9F",
        "outputId": "5ec8e47a-a3cd-4530-9899-811728df08fa"
      },
      "execution_count": null,
      "outputs": [
        {
          "output_type": "stream",
          "name": "stdout",
          "text": [
            "[50, 40, 30, 20, 10]\n"
          ]
        }
      ]
    },
    {
      "cell_type": "markdown",
      "source": [
        "Q11 . Write a code to create a tuple with the elements 100, 200, 300 and print it."
      ],
      "metadata": {
        "id": "tucsx5t9wx-V"
      }
    },
    {
      "cell_type": "code",
      "source": [
        "print(tuple([100, 200, 300]))"
      ],
      "metadata": {
        "colab": {
          "base_uri": "https://localhost:8080/"
        },
        "id": "JY0q4G0Jw2BZ",
        "outputId": "c24a5770-f98a-44c4-c7b8-83d3b0b56535"
      },
      "execution_count": null,
      "outputs": [
        {
          "output_type": "stream",
          "name": "stdout",
          "text": [
            "(100, 200, 300)\n"
          ]
        }
      ]
    },
    {
      "cell_type": "markdown",
      "source": [
        "Q12. Write a code to access the second-to-last element of the tuple ('red', 'green', 'blue', 'yellow')."
      ],
      "metadata": {
        "id": "Ve1aaQhBxO2U"
      }
    },
    {
      "cell_type": "code",
      "source": [
        "print(('red', 'green', 'blue', 'yellow')[1])"
      ],
      "metadata": {
        "colab": {
          "base_uri": "https://localhost:8080/"
        },
        "id": "8D30sxMwxR4g",
        "outputId": "c78afe59-6e37-4f4c-cc43-44165dd2188b"
      },
      "execution_count": null,
      "outputs": [
        {
          "output_type": "stream",
          "name": "stdout",
          "text": [
            "green\n"
          ]
        }
      ]
    },
    {
      "cell_type": "markdown",
      "source": [
        "Q13. Write a code to find the minimum number in the tuple (10, 20, 5, 15)."
      ],
      "metadata": {
        "id": "zCf6Nc_wxmJB"
      }
    },
    {
      "cell_type": "code",
      "source": [
        "tpl3 = (10, 20, 5, 15)\n",
        "print(min(tpl3))"
      ],
      "metadata": {
        "colab": {
          "base_uri": "https://localhost:8080/"
        },
        "id": "2H1r55H9xnNS",
        "outputId": "3fe9b76c-43b4-479f-c1e7-a5ee71fc4fa3"
      },
      "execution_count": null,
      "outputs": [
        {
          "output_type": "stream",
          "name": "stdout",
          "text": [
            "5\n"
          ]
        }
      ]
    },
    {
      "cell_type": "markdown",
      "source": [
        "Q14. Write a code to find the index of the element \"cat\" in the tuple ('dog', 'cat', 'rabbit')."
      ],
      "metadata": {
        "id": "CdOZ06v9yEji"
      }
    },
    {
      "cell_type": "code",
      "source": [
        "tuple4 = ('dog', 'cat', 'rabbit')\n",
        "print(tuple4.index('cat'))"
      ],
      "metadata": {
        "colab": {
          "base_uri": "https://localhost:8080/"
        },
        "id": "tPJmk9XuyIIN",
        "outputId": "2ee76ad3-5f2e-46d1-fae2-fd32e91be1da"
      },
      "execution_count": null,
      "outputs": [
        {
          "output_type": "stream",
          "name": "stdout",
          "text": [
            "1\n"
          ]
        }
      ]
    },
    {
      "cell_type": "markdown",
      "source": [
        " Q15. Write a code to create a tuple containing three different fruits and check if \"kiwi\" is in it"
      ],
      "metadata": {
        "id": "uhbBcycwyUrC"
      }
    },
    {
      "cell_type": "code",
      "source": [
        "tuple5 = ('apple', 'banana', 'kiwi')\n",
        "print('kiwi' in tuple5)"
      ],
      "metadata": {
        "colab": {
          "base_uri": "https://localhost:8080/"
        },
        "id": "OsXClmqWylGX",
        "outputId": "9cdbdf0a-585c-44b1-b72e-de8d321ae3d6"
      },
      "execution_count": null,
      "outputs": [
        {
          "output_type": "stream",
          "name": "stdout",
          "text": [
            "True\n"
          ]
        }
      ]
    },
    {
      "cell_type": "markdown",
      "source": [
        "Q 16. Write a code to create a set with the elements 'a', 'b', 'c' and print it."
      ],
      "metadata": {
        "id": "TfkNYdaBy0RQ"
      }
    },
    {
      "cell_type": "code",
      "source": [
        "set1 = {'a', 'b', 'c'}\n",
        "print(set1)"
      ],
      "metadata": {
        "colab": {
          "base_uri": "https://localhost:8080/"
        },
        "id": "lxSkXqwWy923",
        "outputId": "efe39324-3dab-40c7-b0b4-2eb25a0ce1c2"
      },
      "execution_count": null,
      "outputs": [
        {
          "output_type": "stream",
          "name": "stdout",
          "text": [
            "{'b', 'c', 'a'}\n"
          ]
        }
      ]
    },
    {
      "cell_type": "markdown",
      "source": [
        "Q17. Write a code to clear all elements from the set {1, 2, 3, 4, 5}."
      ],
      "metadata": {
        "id": "X5U02-mNzZQ_"
      }
    },
    {
      "cell_type": "code",
      "source": [
        "set2 = {1, 2, 3, 4, 5}\n",
        "set2.clear()\n",
        "print(set2)"
      ],
      "metadata": {
        "colab": {
          "base_uri": "https://localhost:8080/"
        },
        "id": "JNvIwRgRzeAp",
        "outputId": "5c794d39-dc68-4af3-a5df-ab16b0d37db1"
      },
      "execution_count": null,
      "outputs": [
        {
          "output_type": "stream",
          "name": "stdout",
          "text": [
            "set()\n"
          ]
        }
      ]
    },
    {
      "cell_type": "markdown",
      "source": [
        "Q 18. Write a code to remove the element 4 from the set {1, 2, 3, 4}."
      ],
      "metadata": {
        "id": "26DqEg1Fzl7u"
      }
    },
    {
      "cell_type": "code",
      "source": [
        "set3 = {1, 2, 3, 4}\n",
        "set3.remove(4)\n",
        "print(set3)"
      ],
      "metadata": {
        "colab": {
          "base_uri": "https://localhost:8080/"
        },
        "id": "VJgIGOErznlT",
        "outputId": "978f44d5-4040-4fb4-c429-3ca7c002e194"
      },
      "execution_count": null,
      "outputs": [
        {
          "output_type": "stream",
          "name": "stdout",
          "text": [
            "{1, 2, 3}\n"
          ]
        }
      ]
    },
    {
      "cell_type": "markdown",
      "source": [
        "Q19. Write a code to find the union of two sets {1, 2, 3} and {3, 4, 5}."
      ],
      "metadata": {
        "id": "b4OYNjv-zuAa"
      }
    },
    {
      "cell_type": "code",
      "source": [
        "set4 = {1, 2, 3}\n",
        "set5 = {3, 4, 5}\n",
        "print(set4.union(set5))"
      ],
      "metadata": {
        "colab": {
          "base_uri": "https://localhost:8080/"
        },
        "id": "K8LoYxQ5zyWG",
        "outputId": "6603508e-316b-4edb-877f-701bf1d8bb8d"
      },
      "execution_count": null,
      "outputs": [
        {
          "output_type": "stream",
          "name": "stdout",
          "text": [
            "{1, 2, 3, 4, 5}\n"
          ]
        }
      ]
    },
    {
      "cell_type": "markdown",
      "source": [
        " Q20. Write a code to find the intersection of two sets {1, 2, 3} and {2, 3, 4}."
      ],
      "metadata": {
        "id": "0iwxuGACz-9w"
      }
    },
    {
      "cell_type": "code",
      "source": [
        "set6 = {1, 2, 3}\n",
        "set7 = {2, 3, 4}\n",
        "print(set6.intersection(set7))"
      ],
      "metadata": {
        "colab": {
          "base_uri": "https://localhost:8080/"
        },
        "id": "jNAW5MV50Ecc",
        "outputId": "d334b19f-f72b-41d3-c353-afb34df6debc"
      },
      "execution_count": null,
      "outputs": [
        {
          "output_type": "stream",
          "name": "stdout",
          "text": [
            "{2, 3}\n"
          ]
        }
      ]
    },
    {
      "cell_type": "code",
      "source": [],
      "metadata": {
        "id": "6SHmNwYhz98-"
      },
      "execution_count": null,
      "outputs": []
    },
    {
      "cell_type": "markdown",
      "source": [
        "Q21. Write a code to create a dictionary with the keys \"name\", \"age\", and \"city\", and print it."
      ],
      "metadata": {
        "id": "dIyogyyw0Jh4"
      }
    },
    {
      "cell_type": "code",
      "source": [
        "dict1 = {\"name\": \"Divanshu\", \"age\": 20, \"city\": \"Delhi\"}\n",
        "print(dict1)"
      ],
      "metadata": {
        "colab": {
          "base_uri": "https://localhost:8080/"
        },
        "id": "0d7sRl-i0N-H",
        "outputId": "b4fc5b4d-d36a-4aa6-b366-4b8560a0ce71"
      },
      "execution_count": null,
      "outputs": [
        {
          "output_type": "stream",
          "name": "stdout",
          "text": [
            "{'name': 'Divanshu', 'age': 20, 'city': 'Delhi'}\n"
          ]
        }
      ]
    },
    {
      "cell_type": "markdown",
      "source": [
        "Q22. Write a code to add a new key-value pair \"country\": \"USA\" to the dictionary {'name': 'John', 'age': 25}."
      ],
      "metadata": {
        "id": "d09nqXXZ0XIC"
      }
    },
    {
      "cell_type": "code",
      "source": [
        "dict2 = {'name': 'John', 'age': 25}\n",
        "dict2[\"country\"] = \"USA\"\n",
        "print(dict2)"
      ],
      "metadata": {
        "colab": {
          "base_uri": "https://localhost:8080/"
        },
        "id": "SibiNsVt0b6p",
        "outputId": "eb8df4b5-1ed3-4e7e-ca77-8d792cd410ff"
      },
      "execution_count": null,
      "outputs": [
        {
          "output_type": "stream",
          "name": "stdout",
          "text": [
            "{'name': 'John', 'age': 25, 'country': 'USA'}\n"
          ]
        }
      ]
    },
    {
      "cell_type": "code",
      "source": [
        "Q 23. Write a code to access the value associated with the key \"name\" in the dictionary {'name': 'Alice', 'age': 30}."
      ],
      "metadata": {
        "id": "E2ulZJPhyrGg"
      },
      "execution_count": null,
      "outputs": []
    },
    {
      "cell_type": "code",
      "source": [
        "dict3 = {'name': 'Alice', 'age': 30}\n",
        "print(dict3[\"name\"])"
      ],
      "metadata": {
        "colab": {
          "base_uri": "https://localhost:8080/"
        },
        "id": "oqmpjsex0tyA",
        "outputId": "a1836661-b6f1-4bec-937d-27b740258206"
      },
      "execution_count": null,
      "outputs": [
        {
          "output_type": "stream",
          "name": "stdout",
          "text": [
            "Alice\n"
          ]
        }
      ]
    },
    {
      "cell_type": "code",
      "source": [
        "Q24. Write a code to remove the key \"age\" from the dictionary {'name': 'Bob', 'age': 22, 'city': 'New York'}."
      ],
      "metadata": {
        "id": "KNFXGAaZ0z5F"
      },
      "execution_count": null,
      "outputs": []
    },
    {
      "cell_type": "code",
      "source": [
        "dict4 = {'name': 'Bob', 'age': 22, 'city': 'New York'}\n",
        "dict4.pop(\"age\")\n",
        "print(dict4)\n"
      ],
      "metadata": {
        "colab": {
          "base_uri": "https://localhost:8080/"
        },
        "id": "O_jRbInV1Elg",
        "outputId": "3ba2d96a-f552-48d8-ab6b-1b2d797a0498"
      },
      "execution_count": null,
      "outputs": [
        {
          "output_type": "stream",
          "name": "stdout",
          "text": [
            "{'name': 'Bob', 'city': 'New York'}\n"
          ]
        }
      ]
    },
    {
      "cell_type": "markdown",
      "source": [
        " Q25. Write a code to check if the key \"city\" exists in the dictionary {'name': 'Alice', 'city': 'Paris'}."
      ],
      "metadata": {
        "id": "NCAEEt0e1bvZ"
      }
    },
    {
      "cell_type": "code",
      "source": [
        "dict5 = {'name': 'Alice', 'city': 'Paris'}\n",
        "print(\"city\" in dict5)"
      ],
      "metadata": {
        "colab": {
          "base_uri": "https://localhost:8080/"
        },
        "id": "oxgxJ_Xe1gl_",
        "outputId": "6028b196-e799-4c8f-ffb8-57b89b16b623"
      },
      "execution_count": null,
      "outputs": [
        {
          "output_type": "stream",
          "name": "stdout",
          "text": [
            "True\n"
          ]
        }
      ]
    },
    {
      "cell_type": "markdown",
      "source": [
        "Q 26. Write a code to create a list, a tuple, and a dictionary, and print them all."
      ],
      "metadata": {
        "id": "QPOVJSQi1oGF"
      }
    },
    {
      "cell_type": "code",
      "source": [
        "list1 = [1, 2, 3]\n",
        "tuple1 = (1, 2, 3)\n",
        "dict1 = {\"a\": 1, \"b\": 2, \"c\": 3}\n",
        "\n",
        "print(\"List:\", list1)\n",
        "print(\"Tuple:\", tuple1)\n",
        "print(\"Dictionary:\", dict1)"
      ],
      "metadata": {
        "colab": {
          "base_uri": "https://localhost:8080/"
        },
        "id": "ujnfH2Qn1t3M",
        "outputId": "06cdb7bc-1de3-4ada-a4d6-1aacc7e2aad3"
      },
      "execution_count": null,
      "outputs": [
        {
          "output_type": "stream",
          "name": "stdout",
          "text": [
            "List: [1, 2, 3]\n",
            "Tuple: (1, 2, 3)\n",
            "Dictionary: {'a': 1, 'b': 2, 'c': 3}\n"
          ]
        }
      ]
    },
    {
      "cell_type": "markdown",
      "source": [
        "Q 27. Write a code to create a list of 5 random numbers between 1 and 100, sort it in ascending order, and print the result (replaced)"
      ],
      "metadata": {
        "id": "NDvZvS7X2AZm"
      }
    },
    {
      "cell_type": "code",
      "source": [
        "import random\n",
        "rand_nums = random.sample(range(1, 101), 5)\n",
        "rand_nums.sort()\n",
        "print(rand_nums)"
      ],
      "metadata": {
        "colab": {
          "base_uri": "https://localhost:8080/"
        },
        "id": "MBpZk6jb2Nha",
        "outputId": "1b71113d-89e4-4556-9305-7556611daeb7"
      },
      "execution_count": null,
      "outputs": [
        {
          "output_type": "stream",
          "name": "stdout",
          "text": [
            "[1, 22, 68, 74, 82]\n"
          ]
        }
      ]
    },
    {
      "cell_type": "markdown",
      "source": [
        "Q28. Write a code to create a list with strings and print the element at the third index."
      ],
      "metadata": {
        "id": "iardeZ2b3NvL"
      }
    },
    {
      "cell_type": "code",
      "source": [
        "list1 = [\"apple\", \"banana\", \"cherry\", \"date\", \"elderberry\"]\n",
        "print(list1[2])"
      ],
      "metadata": {
        "colab": {
          "base_uri": "https://localhost:8080/"
        },
        "id": "50x-gPbf3PhQ",
        "outputId": "6cf11909-a35a-42f2-89d2-30be753fb51d"
      },
      "execution_count": null,
      "outputs": [
        {
          "output_type": "stream",
          "name": "stdout",
          "text": [
            "cherry\n"
          ]
        }
      ]
    },
    {
      "cell_type": "markdown",
      "source": [
        " Q29. Write a code to combine two dictionaries into one and print the result."
      ],
      "metadata": {
        "id": "KAP6iawl3dSg"
      }
    },
    {
      "cell_type": "code",
      "source": [
        "dict1 = {\"a\": 1, \"b\": 2}\n",
        "dict2 = {\"c\": 3, \"d\": 4}\n",
        "dict1.update(dict2)\n",
        "print(dict1)"
      ],
      "metadata": {
        "colab": {
          "base_uri": "https://localhost:8080/"
        },
        "id": "W_rrkS6w3gEr",
        "outputId": "8e2b5117-9c1d-4b67-bfb3-8ea1bccad936"
      },
      "execution_count": null,
      "outputs": [
        {
          "output_type": "stream",
          "name": "stdout",
          "text": [
            "{'a': 1, 'b': 2, 'c': 3, 'd': 4}\n"
          ]
        }
      ]
    },
    {
      "cell_type": "markdown",
      "source": [
        "Q30. Write a code to convert a list of strings into a set."
      ],
      "metadata": {
        "id": "neB4IsTC3sLK"
      }
    },
    {
      "cell_type": "code",
      "source": [
        "print(set([\"apple\", \"banana\", \"cherry\"]))\n",
        "type(\"set\")"
      ],
      "metadata": {
        "colab": {
          "base_uri": "https://localhost:8080/"
        },
        "id": "9hhh4zIQ3xWk",
        "outputId": "039e0d6b-73f6-4cc0-9532-37ad70993ef4"
      },
      "execution_count": null,
      "outputs": [
        {
          "output_type": "stream",
          "name": "stdout",
          "text": [
            "{'apple', 'banana', 'cherry'}\n"
          ]
        },
        {
          "output_type": "execute_result",
          "data": {
            "text/plain": [
              "str"
            ]
          },
          "metadata": {},
          "execution_count": 89
        }
      ]
    },
    {
      "cell_type": "code",
      "source": [
        "\n"
      ],
      "metadata": {
        "id": "zK_cC74X1RYj"
      },
      "execution_count": null,
      "outputs": []
    }
  ]
}